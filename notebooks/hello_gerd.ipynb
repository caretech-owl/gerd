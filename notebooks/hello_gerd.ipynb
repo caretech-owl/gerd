{
 "cells": [
  {
   "cell_type": "markdown",
   "metadata": {},
   "source": [
    "# Hello GERD\n",
    "\n",
    "## Getting started with GERD\n",
    "\n",
    "To get started, we install poetry and let it handle all the other dependencies. In this notebook, we will start with basic features. However, we will install `cpu` and `gguf` features nevertheless to make it easier to tinker around with other models and parameters later on."
   ]
  },
  {
   "cell_type": "code",
   "execution_count": null,
   "metadata": {},
   "outputs": [],
   "source": [
    "# install dependencies\n",
    "!pip install poetry\n",
    "!poetry install --extras cpu --extras gguf"
   ]
  },
  {
   "cell_type": "code",
   "execution_count": null,
   "metadata": {},
   "outputs": [],
   "source": [
    "from gerd.config import load_gen_config\n",
    "from gerd.gen.chat_service import ChatService\n",
    "from gerd.models.model import PromptConfig\n",
    "\n",
    "chat = ChatService(load_gen_config(\"hello\"))"
   ]
  },
  {
   "cell_type": "code",
   "execution_count": null,
   "metadata": {},
   "outputs": [],
   "source": [
    "res = chat.submit_user_message({\"word\": \"teleportation\"})\n",
    "res.text"
   ]
  },
  {
   "cell_type": "code",
   "execution_count": null,
   "metadata": {},
   "outputs": [],
   "source": [
    "chat.set_prompt_config(PromptConfig.model_validate({\"text\": \"{message}\"}))\n",
    "res = chat.submit_user_message({\"message\": \"Hello! What is one plus one?\"})\n",
    "res.text"
   ]
  },
  {
   "cell_type": "code",
   "execution_count": null,
   "metadata": {},
   "outputs": [],
   "source": []
  }
 ],
 "metadata": {
  "kernelspec": {
   "display_name": "Python 3",
   "language": "python",
   "name": "python3"
  },
  "language_info": {
   "codemirror_mode": {
    "name": "ipython",
    "version": 3
   },
   "file_extension": ".py",
   "mimetype": "text/x-python",
   "name": "python",
   "nbconvert_exporter": "python",
   "pygments_lexer": "ipython3",
   "version": "3.12.5"
  }
 },
 "nbformat": 4,
 "nbformat_minor": 2
}
